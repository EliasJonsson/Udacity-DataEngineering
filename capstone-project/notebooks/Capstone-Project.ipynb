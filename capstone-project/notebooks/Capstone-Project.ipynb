{
 "cells": [
  {
   "cell_type": "markdown",
   "metadata": {},
   "source": [
    "# Project Title\n",
    "### Data Engineering Capstone Project\n",
    "\n",
    "#### Project Summary\n",
    "In this project a database was created of the immigration data in the United States from 2016. The database is structure with a star schema to simplify the querying.\n",
    "\n",
    "The project follows the follow steps:\n",
    "* Step 1: Scope the Project and Gather Data\n",
    "* Step 2: Explore and Assess the Data\n",
    "* Step 3: Define the Data Model\n",
    "* Step 4: Run ETL to Model the Data\n",
    "* Step 5: Complete Project Write Up"
   ]
  },
  {
   "cell_type": "code",
   "execution_count": 1,
   "metadata": {},
   "outputs": [],
   "source": [
    "# Do all imports and installs here\n",
    "from datetime import date, datetime, timedelta\n",
    "import pandas as pd\n",
    "import os\n",
    "import shutil\n",
    "import wikipedia\n",
    "import re\n",
    "import numpy as np\n",
    "\n",
    "from config import LocalConfigurations\n",
    "from schemas import demographics_schema, airport_schema, world_temp_schema, immigrations_schema\n",
    "\n",
    "from pyspark.sql.functions import udf, col, monotonically_increasing_id, lit, split, isnull, to_timestamp\n",
    "from pyspark.sql.functions import year, month, dayofmonth, hour, weekofyear, dayofweek\n",
    "from pyspark.sql.types import StructType, StructField, StringType, DoubleType, IntegerType, TimestampType, DateType\n",
    "\n",
    "\n",
    "config = LocalConfigurations()"
   ]
  },
  {
   "cell_type": "markdown",
   "metadata": {},
   "source": [
    "### Scope the Project and Gather Data\n",
    "\n",
    "#### Scope\n",
    "In this project the goal is to organize and combine four different datasets into one database. The database is organized to optimize for querying statistics of immigrations in the U.S. in the year 2016. The data will first all be stored in a raw format on AWS S3. The raw data will then be extracted from S3 with Apache Spark and transformed into 7 dimensional tables and 1 fact table following a star schema. A star schema was chosen both because of its simplicity and because of faster aggregations than many other data models. The database will again be stored in S3 using parquet files, but Amazon Athena can then be used to analyse the data further.\n",
    "\n",
    "#### Data\n",
    "- [I94 Immigration Data](https://www.trade.gov/national-travel-and-tourism-office) - Dataset that contains information on every immigration to the U.S. in 2016.\n",
    "- [World Temperature Data](https://www.kaggle.com/datasets/berkeleyearth/climate-change-earth-surface-temperature-data?resource=download) - The temperature in different cities of the world collected on a daily basis.\n",
    "- [U.S. City Demographic Data](https://public.opendatasoft.com/explore/dataset/us-cities-demographics/export/) - Demographic data of cities in the U.S..\n",
    "- [Airport Code Table](https://datahub.io/core/airport-codes#data) - Data related to different airports in the world.\n",
    "\n",
    "![Source Data](../assets/udacity-data-sources.png \"Source Data\")"
   ]
  },
  {
   "cell_type": "code",
   "execution_count": 2,
   "metadata": {},
   "outputs": [
    {
     "name": "stderr",
     "output_type": "stream",
     "text": [
      "https://repos.spark-packages.org/ added as a remote repository with the name: repo-1\n",
      "Ivy Default Cache set to: /Users/elias/.ivy2/cache\n",
      "The jars for the packages stored in: /Users/elias/.ivy2/jars\n",
      "saurfang#spark-sas7bdat added as a dependency\n",
      ":: resolving dependencies :: org.apache.spark#spark-submit-parent-53bbf16e-3439-4d99-9e26-c7743896cde6;1.0\n",
      "\tconfs: [default]\n",
      "\tfound saurfang#spark-sas7bdat;3.0.0-s_2.12 in spark-packages\n",
      "\tfound com.epam#parso;2.0.11 in central\n"
     ]
    },
    {
     "name": "stdout",
     "output_type": "stream",
     "text": [
      ":: loading settings :: url = jar:file:/Users/elias/Projects/Udacity-DataEngineering/capstone-project/venv/lib/python3.7/site-packages/pyspark/jars/ivy-2.5.0.jar!/org/apache/ivy/core/settings/ivysettings.xml\n"
     ]
    },
    {
     "name": "stderr",
     "output_type": "stream",
     "text": [
      "\tfound org.slf4j#slf4j-api;1.7.5 in central\n",
      "\tfound org.apache.logging.log4j#log4j-api-scala_2.12;12.0 in central\n",
      "\tfound org.scala-lang#scala-reflect;2.12.10 in central\n",
      "\tfound org.apache.logging.log4j#log4j-api;2.13.2 in central\n",
      ":: resolution report :: resolve 231ms :: artifacts dl 11ms\n",
      "\t:: modules in use:\n",
      "\tcom.epam#parso;2.0.11 from central in [default]\n",
      "\torg.apache.logging.log4j#log4j-api;2.13.2 from central in [default]\n",
      "\torg.apache.logging.log4j#log4j-api-scala_2.12;12.0 from central in [default]\n",
      "\torg.scala-lang#scala-reflect;2.12.10 from central in [default]\n",
      "\torg.slf4j#slf4j-api;1.7.5 from central in [default]\n",
      "\tsaurfang#spark-sas7bdat;3.0.0-s_2.12 from spark-packages in [default]\n",
      "\t---------------------------------------------------------------------\n",
      "\t|                  |            modules            ||   artifacts   |\n",
      "\t|       conf       | number| search|dwnlded|evicted|| number|dwnlded|\n",
      "\t---------------------------------------------------------------------\n",
      "\t|      default     |   6   |   0   |   0   |   0   ||   6   |   0   |\n",
      "\t---------------------------------------------------------------------\n",
      ":: retrieving :: org.apache.spark#spark-submit-parent-53bbf16e-3439-4d99-9e26-c7743896cde6\n",
      "\tconfs: [default]\n",
      "\t0 artifacts copied, 6 already retrieved (0kB/6ms)\n",
      "23/02/26 21:02:31 WARN NativeCodeLoader: Unable to load native-hadoop library for your platform... using builtin-java classes where applicable\n",
      "Using Spark's default log4j profile: org/apache/spark/log4j-defaults.properties\n",
      "Setting default log level to \"WARN\".\n",
      "To adjust logging level use sc.setLogLevel(newLevel). For SparkR, use setLogLevel(newLevel).\n"
     ]
    }
   ],
   "source": [
    "from pyspark.sql import SparkSession\n",
    "\n",
    "spark = SparkSession.builder.\\\n",
    "config(\"spark.jars.repositories\", \"https://repos.spark-packages.org/\").\\\n",
    "config(\"spark.jars.packages\", \"saurfang:spark-sas7bdat:3.0.0-s_2.12\").\\\n",
    "enableHiveSupport().getOrCreate()"
   ]
  },
  {
   "cell_type": "code",
   "execution_count": 3,
   "metadata": {},
   "outputs": [
    {
     "name": "stdout",
     "output_type": "stream",
     "text": [
      "-RECORD 0-------------------------------------------\n",
      " city                   | Silver Spring             \n",
      " state                  | Maryland                  \n",
      " median_age             | 33.8                      \n",
      " male_population        | 40601.0                   \n",
      " female_population      | 41862.0                   \n",
      " total_population       | 82463                     \n",
      " number_of_veterans     | 1562.0                    \n",
      " foreign_born           | 30908.0                   \n",
      " average_household_size | 2.6                       \n",
      " state_code             | MD                        \n",
      " race                   | Hispanic or Latino        \n",
      " count                  | 25924                     \n",
      "-RECORD 1-------------------------------------------\n",
      " city                   | Quincy                    \n",
      " state                  | Massachusetts             \n",
      " median_age             | 41.0                      \n",
      " male_population        | 44129.0                   \n",
      " female_population      | 49500.0                   \n",
      " total_population       | 93629                     \n",
      " number_of_veterans     | 4147.0                    \n",
      " foreign_born           | 32935.0                   \n",
      " average_household_size | 2.39                      \n",
      " state_code             | MA                        \n",
      " race                   | White                     \n",
      " count                  | 58723                     \n",
      "-RECORD 2-------------------------------------------\n",
      " city                   | Hoover                    \n",
      " state                  | Alabama                   \n",
      " median_age             | 38.5                      \n",
      " male_population        | 38040.0                   \n",
      " female_population      | 46799.0                   \n",
      " total_population       | 84839                     \n",
      " number_of_veterans     | 4819.0                    \n",
      " foreign_born           | 8229.0                    \n",
      " average_household_size | 2.58                      \n",
      " state_code             | AL                        \n",
      " race                   | Asian                     \n",
      " count                  | 4759                      \n",
      "-RECORD 3-------------------------------------------\n",
      " city                   | Rancho Cucamonga          \n",
      " state                  | California                \n",
      " median_age             | 34.5                      \n",
      " male_population        | 88127.0                   \n",
      " female_population      | 87105.0                   \n",
      " total_population       | 175232                    \n",
      " number_of_veterans     | 5821.0                    \n",
      " foreign_born           | 33878.0                   \n",
      " average_household_size | 3.18                      \n",
      " state_code             | CA                        \n",
      " race                   | Black or African-American \n",
      " count                  | 24437                     \n",
      "-RECORD 4-------------------------------------------\n",
      " city                   | Newark                    \n",
      " state                  | New Jersey                \n",
      " median_age             | 34.6                      \n",
      " male_population        | 138040.0                  \n",
      " female_population      | 143873.0                  \n",
      " total_population       | 281913                    \n",
      " number_of_veterans     | 5829.0                    \n",
      " foreign_born           | 86253.0                   \n",
      " average_household_size | 2.73                      \n",
      " state_code             | NJ                        \n",
      " race                   | White                     \n",
      " count                  | 76402                     \n",
      "only showing top 5 rows\n",
      "\n",
      "root\n",
      " |-- city: string (nullable = true)\n",
      " |-- state: string (nullable = true)\n",
      " |-- median_age: double (nullable = true)\n",
      " |-- male_population: double (nullable = true)\n",
      " |-- female_population: double (nullable = true)\n",
      " |-- total_population: integer (nullable = true)\n",
      " |-- number_of_veterans: double (nullable = true)\n",
      " |-- foreign_born: double (nullable = true)\n",
      " |-- average_household_size: double (nullable = true)\n",
      " |-- state_code: string (nullable = true)\n",
      " |-- race: string (nullable = true)\n",
      " |-- count: integer (nullable = true)\n",
      "\n"
     ]
    },
    {
     "name": "stderr",
     "output_type": "stream",
     "text": [
      "23/02/26 21:02:37 WARN CSVHeaderChecker: CSV header does not conform to the schema.\n",
      " Header: City, State, Median Age, Male Population, Female Population, Total Population, Number of Veterans, Foreign-born, Average Household Size, State Code, Race, Count\n",
      " Schema: city, state, median_age, male_population, female_population, total_population, number_of_veterans, foreign_born, average_household_size, state_code, race, count\n",
      "Expected: median_age but found: Median Age\n",
      "CSV file: file:///Users/elias/Projects/Udacity-DataEngineering/capstone-project/data/us-cities-demographics.csv\n"
     ]
    }
   ],
   "source": [
    "df_demographic = spark.read.options(header='True', delimiter=';').csv(config.DEMOGRAPHICS_DATA_PATH, schema=demographics_schema)\n",
    "df_demographic.show(n=5, truncate=False, vertical=True)\n",
    "df_demographic.printSchema()"
   ]
  },
  {
   "cell_type": "code",
   "execution_count": 4,
   "metadata": {},
   "outputs": [
    {
     "name": "stdout",
     "output_type": "stream",
     "text": [
      "-RECORD 0---------------------------------------------\n",
      " ident        | 00A                                   \n",
      " type         | heliport                              \n",
      " name         | Total Rf Heliport                     \n",
      " elevation_ft | 11                                    \n",
      " continent    | NA                                    \n",
      " iso_country  | US                                    \n",
      " iso_region   | US-PA                                 \n",
      " municipality | Bensalem                              \n",
      " gps_code     | 00A                                   \n",
      " iata_code    | null                                  \n",
      " local_code   | 00A                                   \n",
      " coordinates  | -74.93360137939453, 40.07080078125    \n",
      "-RECORD 1---------------------------------------------\n",
      " ident        | 00AA                                  \n",
      " type         | small_airport                         \n",
      " name         | Aero B Ranch Airport                  \n",
      " elevation_ft | 3435                                  \n",
      " continent    | NA                                    \n",
      " iso_country  | US                                    \n",
      " iso_region   | US-KS                                 \n",
      " municipality | Leoti                                 \n",
      " gps_code     | 00AA                                  \n",
      " iata_code    | null                                  \n",
      " local_code   | 00AA                                  \n",
      " coordinates  | -101.473911, 38.704022                \n",
      "-RECORD 2---------------------------------------------\n",
      " ident        | 00AK                                  \n",
      " type         | small_airport                         \n",
      " name         | Lowell Field                          \n",
      " elevation_ft | 450                                   \n",
      " continent    | NA                                    \n",
      " iso_country  | US                                    \n",
      " iso_region   | US-AK                                 \n",
      " municipality | Anchor Point                          \n",
      " gps_code     | 00AK                                  \n",
      " iata_code    | null                                  \n",
      " local_code   | 00AK                                  \n",
      " coordinates  | -151.695999146, 59.94919968           \n",
      "-RECORD 3---------------------------------------------\n",
      " ident        | 00AL                                  \n",
      " type         | small_airport                         \n",
      " name         | Epps Airpark                          \n",
      " elevation_ft | 820                                   \n",
      " continent    | NA                                    \n",
      " iso_country  | US                                    \n",
      " iso_region   | US-AL                                 \n",
      " municipality | Harvest                               \n",
      " gps_code     | 00AL                                  \n",
      " iata_code    | null                                  \n",
      " local_code   | 00AL                                  \n",
      " coordinates  | -86.77030181884766, 34.86479949951172 \n",
      "-RECORD 4---------------------------------------------\n",
      " ident        | 00AR                                  \n",
      " type         | closed                                \n",
      " name         | Newport Hospital & Clinic Heliport    \n",
      " elevation_ft | 237                                   \n",
      " continent    | NA                                    \n",
      " iso_country  | US                                    \n",
      " iso_region   | US-AR                                 \n",
      " municipality | Newport                               \n",
      " gps_code     | null                                  \n",
      " iata_code    | null                                  \n",
      " local_code   | null                                  \n",
      " coordinates  | -91.254898, 35.6087                   \n",
      "only showing top 5 rows\n",
      "\n",
      "root\n",
      " |-- ident: string (nullable = true)\n",
      " |-- type: string (nullable = true)\n",
      " |-- name: string (nullable = true)\n",
      " |-- elevation_ft: integer (nullable = true)\n",
      " |-- continent: string (nullable = true)\n",
      " |-- iso_country: string (nullable = true)\n",
      " |-- iso_region: string (nullable = true)\n",
      " |-- municipality: string (nullable = true)\n",
      " |-- gps_code: string (nullable = true)\n",
      " |-- iata_code: string (nullable = true)\n",
      " |-- local_code: string (nullable = true)\n",
      " |-- coordinates: string (nullable = true)\n",
      "\n"
     ]
    }
   ],
   "source": [
    "df_airport = spark.read.options(header='True', delimiter=',').csv(config.AIRPORT_DATA_PATH, schema = airport_schema)\n",
    "df_airport.show(n=5, truncate=False, vertical=True)\n",
    "df_airport.printSchema()"
   ]
  },
  {
   "cell_type": "code",
   "execution_count": 5,
   "metadata": {},
   "outputs": [
    {
     "name": "stdout",
     "output_type": "stream",
     "text": [
      "-RECORD 0---------------------------------------------\n",
      " dt                              | 1743-11-01         \n",
      " average_temperature             | 6.068              \n",
      " average_temperature_uncertainty | 1.7369999999999999 \n",
      " city                            | Århus              \n",
      " country                         | Denmark            \n",
      " latitude                        | 57.05N             \n",
      " longitude                       | 10.33E             \n",
      "-RECORD 1---------------------------------------------\n",
      " dt                              | 1743-12-01         \n",
      " average_temperature             | null               \n",
      " average_temperature_uncertainty | null               \n",
      " city                            | Århus              \n",
      " country                         | Denmark            \n",
      " latitude                        | 57.05N             \n",
      " longitude                       | 10.33E             \n",
      "-RECORD 2---------------------------------------------\n",
      " dt                              | 1744-01-01         \n",
      " average_temperature             | null               \n",
      " average_temperature_uncertainty | null               \n",
      " city                            | Århus              \n",
      " country                         | Denmark            \n",
      " latitude                        | 57.05N             \n",
      " longitude                       | 10.33E             \n",
      "-RECORD 3---------------------------------------------\n",
      " dt                              | 1744-02-01         \n",
      " average_temperature             | null               \n",
      " average_temperature_uncertainty | null               \n",
      " city                            | Århus              \n",
      " country                         | Denmark            \n",
      " latitude                        | 57.05N             \n",
      " longitude                       | 10.33E             \n",
      "-RECORD 4---------------------------------------------\n",
      " dt                              | 1744-03-01         \n",
      " average_temperature             | null               \n",
      " average_temperature_uncertainty | null               \n",
      " city                            | Århus              \n",
      " country                         | Denmark            \n",
      " latitude                        | 57.05N             \n",
      " longitude                       | 10.33E             \n",
      "only showing top 5 rows\n",
      "\n",
      "root\n",
      " |-- dt: string (nullable = true)\n",
      " |-- average_temperature: double (nullable = true)\n",
      " |-- average_temperature_uncertainty: double (nullable = true)\n",
      " |-- city: string (nullable = true)\n",
      " |-- country: string (nullable = true)\n",
      " |-- latitude: string (nullable = true)\n",
      " |-- longitude: string (nullable = true)\n",
      "\n"
     ]
    },
    {
     "name": "stderr",
     "output_type": "stream",
     "text": [
      "23/02/26 21:02:37 WARN CSVHeaderChecker: CSV header does not conform to the schema.\n",
      " Header: dt, AverageTemperature, AverageTemperatureUncertainty, City, Country, Latitude, Longitude\n",
      " Schema: dt, average_temperature, average_temperature_uncertainty, city, country, latitude, longitude\n",
      "Expected: average_temperature but found: AverageTemperature\n",
      "CSV file: file:///Users/elias/Projects/Udacity-DataEngineering/capstone-project/data/GlobalLandTemperaturesByCity.csv\n"
     ]
    }
   ],
   "source": [
    "df_temperature = spark.read.options(header='True', delimiter=',').csv(config.TEMPERATURE_DATA_PATH, schema = world_temp_schema)\n",
    "df_temperature.show(n=5, truncate=False, vertical=True)\n",
    "df_temperature.printSchema()"
   ]
  },
  {
   "cell_type": "code",
   "execution_count": 6,
   "metadata": {},
   "outputs": [],
   "source": [
    "df_immigration = spark.read.format('com.github.saurfang.sas.spark').load(os.path.join(config.SAS_DATA_PATH, 'i94_apr16_sub.sas7bdat'), schema=immigrations_schema)\n"
   ]
  },
  {
   "cell_type": "code",
   "execution_count": 7,
   "metadata": {},
   "outputs": [
    {
     "name": "stderr",
     "output_type": "stream",
     "text": [
      "23/02/26 21:02:38 WARN package: Truncated the string representation of a plan since it was too large. This behavior can be adjusted by setting 'spark.sql.debug.maxToStringFields'.\n",
      "23/02/26 21:02:39 WARN MemoryManager: Total allocation exceeds 95.00% (906,992,014 bytes) of heap memory\n",
      "Scaling row group sizes to 96.54% for 7 writers\n",
      "23/02/26 21:02:39 WARN MemoryManager: Total allocation exceeds 95.00% (906,992,014 bytes) of heap memory\n",
      "Scaling row group sizes to 84.47% for 8 writers\n",
      "23/02/26 21:02:39 WARN MemoryManager: Total allocation exceeds 95.00% (906,992,014 bytes) of heap memory\n",
      "Scaling row group sizes to 75.08% for 9 writers\n",
      "23/02/26 21:02:39 WARN MemoryManager: Total allocation exceeds 95.00% (906,992,014 bytes) of heap memory\n",
      "Scaling row group sizes to 67.58% for 10 writers\n",
      "23/02/26 21:02:39 WARN MemoryManager: Total allocation exceeds 95.00% (906,992,014 bytes) of heap memory\n",
      "Scaling row group sizes to 61.43% for 11 writers\n",
      "23/02/26 21:02:39 WARN MemoryManager: Total allocation exceeds 95.00% (906,992,014 bytes) of heap memory\n",
      "Scaling row group sizes to 56.31% for 12 writers\n",
      "23/02/26 21:02:47 WARN MemoryManager: Total allocation exceeds 95.00% (906,992,014 bytes) of heap memory\n",
      "Scaling row group sizes to 61.43% for 11 writers\n",
      "23/02/26 21:02:47 WARN MemoryManager: Total allocation exceeds 95.00% (906,992,014 bytes) of heap memory\n",
      "Scaling row group sizes to 67.58% for 10 writers\n",
      "23/02/26 21:02:47 WARN MemoryManager: Total allocation exceeds 95.00% (906,992,014 bytes) of heap memory\n",
      "Scaling row group sizes to 75.08% for 9 writers\n",
      "23/02/26 21:02:47 WARN MemoryManager: Total allocation exceeds 95.00% (906,992,014 bytes) of heap memory\n",
      "Scaling row group sizes to 84.47% for 8 writers\n",
      "23/02/26 21:02:47 WARN MemoryManager: Total allocation exceeds 95.00% (906,992,014 bytes) of heap memory\n",
      "Scaling row group sizes to 96.54% for 7 writers\n",
      "                                                                                \r"
     ]
    }
   ],
   "source": [
    "#write to parquet\n",
    "folder = \"./sas_data\"\n",
    "\n",
    "if (os.path.exists(folder)):\n",
    "    shutil.rmtree(folder, ignore_errors=False, onerror=None)\n",
    "df_immigration.write.parquet(folder)\n",
    "df_immigration=spark.read.parquet(folder)"
   ]
  },
  {
   "cell_type": "code",
   "execution_count": 8,
   "metadata": {},
   "outputs": [
    {
     "name": "stdout",
     "output_type": "stream",
     "text": [
      "root\n",
      " |-- cic_id: double (nullable = true)\n",
      " |-- i94yr: double (nullable = true)\n",
      " |-- i94mon: double (nullable = true)\n",
      " |-- i94cit: double (nullable = true)\n",
      " |-- i94res: double (nullable = true)\n",
      " |-- i94port: string (nullable = true)\n",
      " |-- sas_arrdate: double (nullable = true)\n",
      " |-- i94mode: double (nullable = true)\n",
      " |-- i94addr: string (nullable = true)\n",
      " |-- sas_depdate: double (nullable = true)\n",
      " |-- i94bir: double (nullable = true)\n",
      " |-- i94visa: double (nullable = true)\n",
      " |-- count: double (nullable = true)\n",
      " |-- dtadfile: string (nullable = true)\n",
      " |-- visapost: string (nullable = true)\n",
      " |-- occup: string (nullable = true)\n",
      " |-- entdepa: string (nullable = true)\n",
      " |-- entdepd: string (nullable = true)\n",
      " |-- entdepu: string (nullable = true)\n",
      " |-- matflag: string (nullable = true)\n",
      " |-- biryear: double (nullable = true)\n",
      " |-- dtaddto: string (nullable = true)\n",
      " |-- gender: string (nullable = true)\n",
      " |-- insnum: string (nullable = true)\n",
      " |-- airline: string (nullable = true)\n",
      " |-- admnum: double (nullable = true)\n",
      " |-- fltno: string (nullable = true)\n",
      " |-- visatype: string (nullable = true)\n",
      "\n",
      "Number of entries are: 3096313\n",
      "-RECORD 0---------------------\n",
      " cic_id      | 5749531.0      \n",
      " i94yr       | 2016.0         \n",
      " i94mon      | 4.0            \n",
      " i94cit      | 251.0          \n",
      " i94res      | 251.0          \n",
      " i94port     | NYC            \n",
      " sas_arrdate | 20574.0        \n",
      " i94mode     | 1.0            \n",
      " i94addr     | NV             \n",
      " sas_depdate | 20579.0        \n",
      " i94bir      | 42.0           \n",
      " i94visa     | 1.0            \n",
      " count       | 1.0            \n",
      " dtadfile    | 20160430       \n",
      " visapost    | TLV            \n",
      " occup       | null           \n",
      " entdepa     | G              \n",
      " entdepd     | O              \n",
      " entdepu     | null           \n",
      " matflag     | M              \n",
      " biryear     | 1974.0         \n",
      " dtaddto     | 10292016       \n",
      " gender      | F              \n",
      " insnum      | null           \n",
      " airline     | DL             \n",
      " admnum      | 9.493188753E10 \n",
      " fltno       | 00469          \n",
      " visatype    | B1             \n",
      "-RECORD 1---------------------\n",
      " cic_id      | 5749532.0      \n",
      " i94yr       | 2016.0         \n",
      " i94mon      | 4.0            \n",
      " i94cit      | 251.0          \n",
      " i94res      | 251.0          \n",
      " i94port     | NYC            \n",
      " sas_arrdate | 20574.0        \n",
      " i94mode     | 1.0            \n",
      " i94addr     | NV             \n",
      " sas_depdate | 20584.0        \n",
      " i94bir      | 40.0           \n",
      " i94visa     | 2.0            \n",
      " count       | 1.0            \n",
      " dtadfile    | 20160430       \n",
      " visapost    | TLV            \n",
      " occup       | null           \n",
      " entdepa     | G              \n",
      " entdepd     | O              \n",
      " entdepu     | null           \n",
      " matflag     | M              \n",
      " biryear     | 1976.0         \n",
      " dtaddto     | 10292016       \n",
      " gender      | F              \n",
      " insnum      | null           \n",
      " airline     | DL             \n",
      " admnum      | 9.493207363E10 \n",
      " fltno       | 00469          \n",
      " visatype    | B2             \n",
      "-RECORD 2---------------------\n",
      " cic_id      | 5749533.0      \n",
      " i94yr       | 2016.0         \n",
      " i94mon      | 4.0            \n",
      " i94cit      | 251.0          \n",
      " i94res      | 251.0          \n",
      " i94port     | NYC            \n",
      " sas_arrdate | 20574.0        \n",
      " i94mode     | 1.0            \n",
      " i94addr     | NV             \n",
      " sas_depdate | 20584.0        \n",
      " i94bir      | 39.0           \n",
      " i94visa     | 2.0            \n",
      " count       | 1.0            \n",
      " dtadfile    | 20160430       \n",
      " visapost    | TLV            \n",
      " occup       | null           \n",
      " entdepa     | G              \n",
      " entdepd     | O              \n",
      " entdepu     | null           \n",
      " matflag     | M              \n",
      " biryear     | 1977.0         \n",
      " dtaddto     | 10292016       \n",
      " gender      | M              \n",
      " insnum      | null           \n",
      " airline     | DL             \n",
      " admnum      | 9.493197643E10 \n",
      " fltno       | 00469          \n",
      " visatype    | B2             \n",
      "-RECORD 3---------------------\n",
      " cic_id      | 5749538.0      \n",
      " i94yr       | 2016.0         \n",
      " i94mon      | 4.0            \n",
      " i94cit      | 251.0          \n",
      " i94res      | 251.0          \n",
      " i94port     | NYC            \n",
      " sas_arrdate | 20574.0        \n",
      " i94mode     | 1.0            \n",
      " i94addr     | NY             \n",
      " sas_depdate | null           \n",
      " i94bir      | 23.0           \n",
      " i94visa     | 2.0            \n",
      " count       | 1.0            \n",
      " dtadfile    | 20160430       \n",
      " visapost    | TLV            \n",
      " occup       | null           \n",
      " entdepa     | G              \n",
      " entdepd     | null           \n",
      " entdepu     | null           \n",
      " matflag     | null           \n",
      " biryear     | 1993.0         \n",
      " dtaddto     | 10292016       \n",
      " gender      | M              \n",
      " insnum      | null           \n",
      " airline     | EK             \n",
      " admnum      | 9.495134923E10 \n",
      " fltno       | 00203          \n",
      " visatype    | B2             \n",
      "-RECORD 4---------------------\n",
      " cic_id      | 5749540.0      \n",
      " i94yr       | 2016.0         \n",
      " i94mon      | 4.0            \n",
      " i94cit      | 251.0          \n",
      " i94res      | 251.0          \n",
      " i94port     | NYC            \n",
      " sas_arrdate | 20574.0        \n",
      " i94mode     | 1.0            \n",
      " i94addr     | NY             \n",
      " sas_depdate | 20575.0        \n",
      " i94bir      | 39.0           \n",
      " i94visa     | 2.0            \n",
      " count       | 1.0            \n",
      " dtadfile    | 20160430       \n",
      " visapost    | TLV            \n",
      " occup       | null           \n",
      " entdepa     | G              \n",
      " entdepd     | I              \n",
      " entdepu     | null           \n",
      " matflag     | M              \n",
      " biryear     | 1977.0         \n",
      " dtaddto     | 10292016       \n",
      " gender      | M              \n",
      " insnum      | null           \n",
      " airline     | PR             \n",
      " admnum      | 9.502525553E10 \n",
      " fltno       | 00126          \n",
      " visatype    | B2             \n",
      "only showing top 5 rows\n",
      "\n"
     ]
    }
   ],
   "source": [
    "df_immigration.printSchema()\n",
    "print(f\"Number of entries are: {df_immigration.count()}\")\n",
    "df_immigration.show(n=5, truncate=False, vertical=True)"
   ]
  },
  {
   "cell_type": "markdown",
   "metadata": {},
   "source": [
    "### Explore and Assess the Data\n",
    "#### Explore the Data \n",
    "\n"
   ]
  },
  {
   "cell_type": "markdown",
   "metadata": {},
   "source": [
    "Check out the **Data Exploration Notebook** for the data explorations steps."
   ]
  },
  {
   "cell_type": "markdown",
   "metadata": {},
   "source": [
    "#### Cleaning Steps\n",
    "Document steps necessary to clean the data"
   ]
  },
  {
   "cell_type": "code",
   "execution_count": 9,
   "metadata": {},
   "outputs": [],
   "source": [
    "from utils import read_sas_description\n",
    "sas_data = read_sas_description(config.SAS_DESC_DATA_PATH)"
   ]
  },
  {
   "cell_type": "code",
   "execution_count": 24,
   "metadata": {},
   "outputs": [],
   "source": [
    "sas_ref_date = datetime(1960, 1, 1)\n",
    "\n",
    "@udf\n",
    "def to_city(id):\n",
    "    try:\n",
    "        return sas_data['I94CIT'][int(id)]\n",
    "    except:\n",
    "        return \"No Country Code\"\n",
    "\n",
    "@udf\n",
    "def to_port(port_id):\n",
    "    try:\n",
    "        return sas_data['I94PORT'][port_id]\n",
    "    except:\n",
    "        return \"No PORT Code\"\n",
    "\n",
    "@udf\n",
    "def to_travel_mode(mode_id):\n",
    "    try:\n",
    "        return sas_data['I94MODE'][int(mode_id)]\n",
    "    except:\n",
    "        None\n",
    "        \n",
    "@udf\n",
    "def to_transport_no(transport_no, company_name, mode):\n",
    "    if transport_no:\n",
    "        return str(transport_no)\n",
    "    no = 'no'\n",
    "    if company_name:\n",
    "        return no\n",
    "    if company_name:\n",
    "        no += str(company_name[0:3])\n",
    "    if mode:\n",
    "        no += str(mode)\n",
    "    return no\n",
    "\n",
    "@udf\n",
    "def to_visa_type(visa_id):\n",
    "    try:\n",
    "        return sas_data['I94VISA'][visa_id]\n",
    "    except:\n",
    "        None\n",
    "\n",
    "@udf\n",
    "def to_int(number):\n",
    "    if number:\n",
    "        try:\n",
    "            return int(number)\n",
    "        except:\n",
    "            print(number)\n",
    "            return 0\n",
    "    return None\n",
    "\n",
    "@udf(TimestampType())\n",
    "def to_timestamp_sas(days):\n",
    "    try:\n",
    "        return sas_ref_date + timedelta(days=int(days))\n",
    "    except:\n",
    "        return None\n",
    "\n",
    "@udf(DateType())\n",
    "def to_date_sas(days):\n",
    "    try:\n",
    "        return sas_ref_date + timedelta(days=int(days))\n",
    "    except:\n",
    "        return None\n",
    "    \n",
    "@udf(StringType())\n",
    "def upper(val):\n",
    "    return val.upper()\n",
    "\n",
    "@udf(StringType())\n",
    "def city_sas(val):\n",
    "    return sas_data['I94PORT'][val][0]\n",
    "\n",
    "@udf(StringType())\n",
    "def state_sas(val):\n",
    "    return sas_data['I94PORT'][val][1]"
   ]
  },
  {
   "cell_type": "markdown",
   "metadata": {},
   "source": [
    "### Define the Data Model\n",
    "#### Conceptual Data Model\n",
    "\n",
    "\n"
   ]
  },
  {
   "cell_type": "markdown",
   "metadata": {},
   "source": [
    "For this project it was decided to use star schema to model the data. The star schema was chosen for fast and simple way of analysing the data.\n",
    "\n",
    "![Conceptual Data model](../assets/udacity-star-schema.png \"Conceptual Data Model\")"
   ]
  },
  {
   "cell_type": "markdown",
   "metadata": {},
   "source": [
    "### Run Pipelines to Model the Data \n",
    "#### Create the data model\n",
    "Build the data pipelines to create the data model."
   ]
  },
  {
   "cell_type": "markdown",
   "metadata": {},
   "source": [
    "### Demographics Dimension Table"
   ]
  },
  {
   "cell_type": "code",
   "execution_count": 11,
   "metadata": {},
   "outputs": [
    {
     "name": "stderr",
     "output_type": "stream",
     "text": [
      "\r",
      "[Stage 9:>                                                          (0 + 1) / 1]\r",
      "\r",
      "                                                                                \r"
     ]
    },
    {
     "data": {
      "text/plain": [
       "Row(cic_id=5749531.0, i94yr=2016.0, i94mon=4.0, i94cit=251.0, i94res=251.0, i94port='NYC', sas_arrdate=20574.0, i94mode=1.0, i94addr='NV', sas_depdate=20579.0, i94bir=42.0, i94visa=1.0, count=1.0, dtadfile='20160430', visapost='TLV', occup=None, entdepa='G', entdepd='O', entdepu=None, matflag='M', biryear=1974.0, dtaddto='10292016', gender='F', insnum=None, airline='DL', admnum=94931887530.0, fltno='00469', visatype='B1', arrdate=datetime.date(2016, 4, 30), depdate=datetime.date(2016, 5, 5), transport_no='00469', city='NEW YORK', state='NY')"
      ]
     },
     "execution_count": 11,
     "metadata": {},
     "output_type": "execute_result"
    }
   ],
   "source": [
    "# 1. Augment data\n",
    "df_immigration_aug = df_immigration \\\n",
    "    .withColumn('arrdate', to_date_sas('sas_arrdate')) \\\n",
    "    .withColumn('depdate', to_date_sas('sas_depdate')) \\\n",
    "    .withColumn('transport_no',  to_transport_no('fltno', 'airline', 'i94mode')) \\\n",
    "    .withColumn('city', city_sas(df_immigration.i94port)) \\\n",
    "    .withColumn('state', state_sas(df_immigration.i94port)) \\\n",
    "    .na.drop(subset=[\"admnum\"])\n",
    "df_immigration_aug.head()"
   ]
  },
  {
   "cell_type": "code",
   "execution_count": 12,
   "metadata": {},
   "outputs": [
    {
     "name": "stdout",
     "output_type": "stream",
     "text": [
      "root\n",
      " |-- city: string (nullable = true)\n",
      " |-- state: string (nullable = true)\n",
      " |-- median_age: double (nullable = true)\n",
      " |-- male_population: double (nullable = false)\n",
      " |-- female_population: double (nullable = false)\n",
      " |-- total_population: integer (nullable = true)\n",
      " |-- number_of_veterans: double (nullable = false)\n",
      " |-- foreign_born: double (nullable = false)\n",
      " |-- average_household_size: double (nullable = true)\n",
      " |-- state_code: string (nullable = true)\n",
      " |-- race: string (nullable = true)\n",
      " |-- count: integer (nullable = true)\n",
      "\n",
      "root\n",
      " |-- state_code: string (nullable = true)\n",
      " |-- name: string (nullable = true)\n",
      " |-- state: string (nullable = true)\n",
      " |-- median_age: double (nullable = true)\n",
      " |-- male_population: double (nullable = true)\n",
      " |-- female_population: double (nullable = true)\n",
      " |-- total_population: integer (nullable = true)\n",
      " |-- number_of_veterans: double (nullable = true)\n",
      " |-- foreign_born: double (nullable = true)\n",
      " |-- average_household_size: double (nullable = true)\n",
      " |-- most_common_race: string (nullable = true)\n",
      " |-- country: string (nullable = true)\n",
      " |-- avg_temp: double (nullable = true)\n",
      " |-- city_id: long (nullable = false)\n",
      "\n"
     ]
    },
    {
     "name": "stderr",
     "output_type": "stream",
     "text": [
      "23/02/26 21:02:54 WARN CSVHeaderChecker: CSV header does not conform to the schema.\n",
      " Header: City, State, Median Age, Male Population, Female Population, Total Population, Number of Veterans, Foreign-born, Average Household Size, State Code, Race, Count\n",
      " Schema: city, state, median_age, male_population, female_population, total_population, number_of_veterans, foreign_born, average_household_size, state_code, race, count\n",
      "Expected: median_age but found: Median Age\n",
      "CSV file: file:///Users/elias/Projects/Udacity-DataEngineering/capstone-project/data/us-cities-demographics.csv\n",
      "23/02/26 21:02:54 WARN CSVHeaderChecker: CSV header does not conform to the schema.\n",
      " Header: AverageTemperature, City, Country\n",
      " Schema: average_temperature, city, country\n",
      "Expected: average_temperature but found: AverageTemperature\n",
      "CSV file: file:///Users/elias/Projects/Udacity-DataEngineering/capstone-project/data/GlobalLandTemperaturesByCity.csv\n",
      "[Stage 13:================================================>       (12 + 2) / 14]\r"
     ]
    },
    {
     "name": "stdout",
     "output_type": "stream",
     "text": [
      "CPU times: user 44.1 ms, sys: 15.5 ms, total: 59.6 ms\n",
      "Wall time: 8.07 s\n"
     ]
    },
    {
     "name": "stderr",
     "output_type": "stream",
     "text": [
      "\r",
      "                                                                                \r"
     ]
    },
    {
     "data": {
      "text/plain": [
       "Row(state_code='AK', name='ALCAN', state=None, median_age=None, male_population=None, female_population=None, total_population=None, number_of_veterans=None, foreign_born=None, average_household_size=None, most_common_race=None, country=None, avg_temp=None, city_id=0)"
      ]
     },
     "execution_count": 12,
     "metadata": {},
     "output_type": "execute_result"
    }
   ],
   "source": [
    "%%time\n",
    "# city_id, name, state, median_age, male_population, female_population, total_population,\n",
    "# number_of_veterans, foreign_born, average_household_size, state_code, most_common_race, country, avg_temp\n",
    "from pyspark.sql.functions import isnan, when, count, col\n",
    "# 1. Cleaning demographic data\n",
    "#      1.1 Fill NaNs and remove duplicated rows if exists\n",
    "col_names = ['male_population', 'female_population', 'number_of_veterans', 'foreign_born']\n",
    "df_demographic_structured = df_demographic \\\n",
    "    .na.fill(value=0, subset=col_names) \\\n",
    "    .dropDuplicates()\n",
    "\n",
    "df_demographic_structured.printSchema()\n",
    "\n",
    "# 1. Cleaning temperature data\n",
    "#      2.1 Average Temperature in the US\n",
    "df_temperature_structured = df_temperature \\\n",
    "    .select('city', 'country', 'average_temperature') \\\n",
    "    .where(df_temperature.country == 'United States') \\\n",
    "    .groupBy('city', 'country').mean() \\\n",
    "    .withColumnRenamed('avg(average_temperature)', 'avg_temp') \\\n",
    "    .drop('country')\n",
    "\n",
    "\n",
    "# 3. Reconstruction\n",
    "#      3.1 - Find most common race for each city-state pair.\n",
    "df_demographic_structured.createOrReplaceTempView(\"demographic_race_count\")\n",
    "df_demographic_count = spark.sql(\"select city, state, count from demographic_race_count\") \\\n",
    "    .groupby('city', 'state') \\\n",
    "    .max() \\\n",
    "    .withColumnRenamed('max(count)', 'count')\n",
    "df_demographic_structured = df_demographic_structured \\\n",
    "    .join(df_demographic_count, on=['city', 'state', 'count'], how='inner') \\\n",
    "    .withColumnRenamed('race', 'most_common_race') \\\n",
    "    .withColumnRenamed('city', 'name') \\\n",
    "    .withColumn('name', upper(col('name'))) \\\n",
    "    .withColumn('country', lit('US')) \\\n",
    "    .drop('count')\n",
    "\n",
    "df_demographic_temp = df_demographic_structured \\\n",
    "    .join(df_temperature_structured,df_demographic_structured.name ==  df_temperature_structured.city,\"left\") \\\n",
    "    .drop('city')\n",
    "\n",
    "city_table = df_demographic_temp \\\n",
    "        .join(df_immigration_aug.select(col('state').alias('state_code'), col('city').alias('name')).dropDuplicates(), ['state_code', 'name'], \"fullouter\") \\\n",
    "        .withColumn('city_id', monotonically_increasing_id())\n",
    "city_table.printSchema()\n",
    "city_table.head()"
   ]
  },
  {
   "cell_type": "markdown",
   "metadata": {},
   "source": [
    "### Port Dimension Table"
   ]
  },
  {
   "cell_type": "code",
   "execution_count": 13,
   "metadata": {},
   "outputs": [
    {
     "name": "stdout",
     "output_type": "stream",
     "text": [
      "root\n",
      " |-- port: string (nullable = true)\n",
      " |-- name: string (nullable = true)\n",
      " |-- municipality: string (nullable = true)\n",
      " |-- country: string (nullable = true)\n",
      " |-- elevation_ft: integer (nullable = true)\n",
      " |-- longitude: string (nullable = true)\n",
      " |-- latitude: string (nullable = true)\n",
      " |-- continent: string (nullable = false)\n",
      " |-- type: string (nullable = true)\n",
      " |-- port_id: long (nullable = false)\n",
      "\n"
     ]
    },
    {
     "name": "stderr",
     "output_type": "stream",
     "text": [
      "\r",
      "[Stage 24:============================================>           (11 + 3) / 14]\r"
     ]
    },
    {
     "name": "stdout",
     "output_type": "stream",
     "text": [
      "CPU times: user 15.5 ms, sys: 5.3 ms, total: 20.8 ms\n",
      "Wall time: 1.07 s\n"
     ]
    },
    {
     "name": "stderr",
     "output_type": "stream",
     "text": [
      "\r",
      "                                                                                \r"
     ]
    },
    {
     "data": {
      "text/plain": [
       "Row(port='00A', name='Total Rf Heliport', municipality='Bensalem', country='US', elevation_ft=11, longitude='-74.93360137939453', latitude=' 40.07080078125', continent='NA', type='heliport', port_id=0)"
      ]
     },
     "execution_count": 13,
     "metadata": {},
     "output_type": "execute_result"
    }
   ],
   "source": [
    "%%time\n",
    "# 1. Cleaning ports\n",
    "# port_id, port_code, name, city, country, elevation_ft, longitude, latitude\n",
    "#      1.1 Only U.S. airports\n",
    "port_table = df_airport \\\n",
    "    .join(df_immigration_aug.select(col('i94port').alias('local_code')).dropDuplicates(), ['local_code'], \"fullouter\") \\\n",
    "    .select('local_code', 'name', 'municipality', 'iso_country', 'elevation_ft'\n",
    "            , split('coordinates', ',').getItem(0).alias(\"longitude\")\n",
    "            , split('coordinates', ',').getItem(1).alias(\"latitude\")\n",
    "            , lit('NA').alias('continent')\n",
    "            , 'type') \\\n",
    "    .where(df_airport['iso_country'] == \"US\") \\\n",
    "    .withColumnRenamed('local_code', 'port') \\\n",
    "    .withColumnRenamed('city', 'municipality') \\\n",
    "    .withColumnRenamed('iso_country', 'country') \\\n",
    "    .withColumn('port_id', monotonically_increasing_id())\n",
    "port_table.printSchema()\n",
    "port_table.head()"
   ]
  },
  {
   "cell_type": "markdown",
   "metadata": {},
   "source": []
  },
  {
   "cell_type": "markdown",
   "metadata": {},
   "source": [
    "### Alien Dimension Table"
   ]
  },
  {
   "cell_type": "code",
   "execution_count": 32,
   "metadata": {},
   "outputs": [
    {
     "name": "stdout",
     "output_type": "stream",
     "text": [
      "root\n",
      " |-- admission_id: string (nullable = true)\n",
      " |-- citizenship_origin: string (nullable = true)\n",
      " |-- residency_origin: string (nullable = true)\n",
      " |-- gender: string (nullable = true)\n",
      " |-- age: string (nullable = true)\n",
      " |-- visatype: string (nullable = true)\n",
      " |-- i94visa: string (nullable = true)\n",
      " |-- entdepa: string (nullable = true)\n",
      " |-- entdepd: string (nullable = true)\n",
      " |-- matflag: string (nullable = true)\n",
      " |-- year_of_birth: string (nullable = true)\n",
      "\n"
     ]
    },
    {
     "name": "stderr",
     "output_type": "stream",
     "text": [
      "[Stage 265:===============================================>       (12 + 2) / 14]\r"
     ]
    },
    {
     "name": "stdout",
     "output_type": "stream",
     "text": [
      "CPU times: user 53 ms, sys: 9.96 ms, total: 62.9 ms\n",
      "Wall time: 14.2 s\n"
     ]
    },
    {
     "name": "stderr",
     "output_type": "stream",
     "text": [
      "\r",
      "                                                                                \r"
     ]
    },
    {
     "data": {
      "text/plain": [
       "Row(admission_id='1023352085', citizenship_origin='MEXICO Air Sea, and Not Reported (I-94, no land arrivals)', residency_origin='MEXICO Air Sea, and Not Reported (I-94, no land arrivals)', gender='F', age='16', visatype='E2', i94visa='Business', entdepa='T', entdepd='O', matflag='M', year_of_birth='2000')"
      ]
     },
     "execution_count": 32,
     "metadata": {},
     "output_type": "execute_result"
    }
   ],
   "source": [
    "%%time\n",
    "# 1.1 Create alien table\n",
    "alien_table = df_immigration_aug.select(\n",
    "    to_int(df_immigration_aug.admnum).alias('admission_id'),\n",
    "    to_city(df_immigration.i94cit).alias('citizenship_origin'),\n",
    "    to_city(df_immigration.i94res).alias('residency_origin'),\n",
    "    df_immigration.gender,\n",
    "    to_int(df_immigration.i94bir).alias('age'),\n",
    "    df_immigration.visatype,\n",
    "    to_visa_type(df_immigration.i94visa).alias('i94visa'),\n",
    "    df_immigration.entdepa,\n",
    "    df_immigration.entdepd,\n",
    "    df_immigration.matflag,\n",
    "    to_int(df_immigration.biryear).alias('year_of_birth'),\n",
    ").dropDuplicates(['admission_id']) \\\n",
    ".na.drop(subset=[\"admission_id\"])\n",
    "alien_table.printSchema()\n",
    "alien_table.head()"
   ]
  },
  {
   "cell_type": "markdown",
   "metadata": {},
   "source": [
    "### Time Dimension Table"
   ]
  },
  {
   "cell_type": "code",
   "execution_count": 15,
   "metadata": {},
   "outputs": [
    {
     "name": "stdout",
     "output_type": "stream",
     "text": [
      "root\n",
      " |-- time: timestamp (nullable = true)\n",
      " |-- hour: integer (nullable = true)\n",
      " |-- day: integer (nullable = true)\n",
      " |-- week: integer (nullable = true)\n",
      " |-- month: integer (nullable = true)\n",
      " |-- year: integer (nullable = true)\n",
      " |-- weekday: integer (nullable = true)\n",
      "\n"
     ]
    },
    {
     "name": "stderr",
     "output_type": "stream",
     "text": [
      "[Stage 32:====================================================>   (39 + 3) / 42]\r"
     ]
    },
    {
     "name": "stdout",
     "output_type": "stream",
     "text": [
      "CPU times: user 75.5 ms, sys: 28.1 ms, total: 104 ms\n",
      "Wall time: 3min 42s\n"
     ]
    },
    {
     "name": "stderr",
     "output_type": "stream",
     "text": [
      "\r",
      "                                                                                \r"
     ]
    },
    {
     "data": {
      "text/plain": [
       "Row(time=datetime.datetime(2016, 4, 16, 0, 0), hour=0, day=16, week=15, month=4, year=2016, weekday=7)"
      ]
     },
     "execution_count": 15,
     "metadata": {},
     "output_type": "execute_result"
    }
   ],
   "source": [
    "%%time\n",
    "\n",
    "# extract columns to create time table\n",
    "arr_time_table = df_immigration_aug.select(\n",
    "    to_timestamp_sas(df_immigration_aug.sas_arrdate).alias('time'),\n",
    "    hour(df_immigration_aug.arrdate).alias('hour'),\n",
    "    dayofmonth(df_immigration_aug.arrdate).alias('day'),\n",
    "    weekofyear(df_immigration_aug.arrdate).alias('week'),\n",
    "    month(df_immigration_aug.arrdate).alias('month'),\n",
    "    year(df_immigration_aug.arrdate).alias('year'),\n",
    "    dayofweek(df_immigration_aug.arrdate).alias('weekday')\n",
    ")\n",
    "dep_time_table = df_immigration_aug.select(\n",
    "    to_timestamp_sas(df_immigration_aug.sas_depdate).alias('time'),\n",
    "    hour(df_immigration_aug.depdate).alias('hour'),\n",
    "    dayofmonth(df_immigration_aug.depdate).alias('day'),\n",
    "    weekofyear(df_immigration_aug.depdate).alias('week'),\n",
    "    month(df_immigration_aug.depdate).alias('month'),\n",
    "    year(df_immigration_aug.depdate).alias('year'),\n",
    "    dayofweek(df_immigration_aug.depdate).alias('weekday')\n",
    ")\n",
    "\n",
    "expiration_time_table = df_immigration_aug.select(\n",
    "    to_timestamp(df_immigration_aug.dtaddto).alias('time'),\n",
    "    hour(df_immigration_aug.dtaddto).alias('hour'),\n",
    "    dayofmonth(df_immigration_aug.dtaddto).alias('day'),\n",
    "    weekofyear(df_immigration_aug.dtaddto).alias('week'),\n",
    "    month(df_immigration_aug.dtaddto).alias('month'),\n",
    "    year(df_immigration_aug.dtaddto).alias('year'),\n",
    "    dayofweek(df_immigration_aug.dtaddto).alias('weekday')\n",
    ")\n",
    "expiration_time_table.head()\n",
    "time_table = arr_time_table \\\n",
    "    .union(dep_time_table) \\\n",
    "    .union(expiration_time_table) \\\n",
    "    .dropDuplicates() \\\n",
    "    .na.drop()\n",
    "time_table.printSchema()\n",
    "time_table.head()"
   ]
  },
  {
   "cell_type": "markdown",
   "metadata": {},
   "source": [
    "### Visa Issuer Dimension Table"
   ]
  },
  {
   "cell_type": "code",
   "execution_count": 16,
   "metadata": {},
   "outputs": [
    {
     "name": "stdout",
     "output_type": "stream",
     "text": [
      "root\n",
      " |-- name: string (nullable = true)\n",
      " |-- visa_issuer_id: long (nullable = false)\n",
      "\n",
      "CPU times: user 9.1 ms, sys: 4.53 ms, total: 13.6 ms\n",
      "Wall time: 768 ms\n"
     ]
    },
    {
     "data": {
      "text/plain": [
       "Row(name='CRS', visa_issuer_id=0)"
      ]
     },
     "execution_count": 16,
     "metadata": {},
     "output_type": "execute_result"
    }
   ],
   "source": [
    "%%time\n",
    "\n",
    "from pyspark.sql.functions import monotonically_increasing_id\n",
    "visa_issuer_table = df_immigration.select(\n",
    "    df_immigration.visapost.alias('name'),\n",
    ").dropDuplicates()\n",
    "visa_issuer_table = visa_issuer_table.withColumn(\"visa_issuer_id\", monotonically_increasing_id())\n",
    "\n",
    "visa_issuer_table.printSchema()\n",
    "visa_issuer_table.head()"
   ]
  },
  {
   "cell_type": "markdown",
   "metadata": {},
   "source": [
    "### Logistic Dimension Table"
   ]
  },
  {
   "cell_type": "code",
   "execution_count": 17,
   "metadata": {},
   "outputs": [
    {
     "name": "stdout",
     "output_type": "stream",
     "text": [
      "root\n",
      " |-- transport_no: string (nullable = true)\n",
      " |-- company: string (nullable = true)\n",
      " |-- mode: double (nullable = true)\n",
      " |-- transport_id: long (nullable = false)\n",
      "\n"
     ]
    },
    {
     "name": "stderr",
     "output_type": "stream",
     "text": [
      "[Stage 38:================================================>       (12 + 2) / 14]\r"
     ]
    },
    {
     "name": "stdout",
     "output_type": "stream",
     "text": [
      "CPU times: user 14.3 ms, sys: 6.24 ms, total: 20.5 ms\n",
      "Wall time: 4.66 s\n"
     ]
    },
    {
     "name": "stderr",
     "output_type": "stream",
     "text": [
      "\r",
      "                                                                                \r"
     ]
    },
    {
     "data": {
      "text/plain": [
       "Row(transport_no='00000', company='JL', mode=1.0, transport_id=0)"
      ]
     },
     "execution_count": 17,
     "metadata": {},
     "output_type": "execute_result"
    }
   ],
   "source": [
    "%%time\n",
    "\n",
    "logistic_table = df_immigration_aug.select(\n",
    "    df_immigration_aug.transport_no,\n",
    "    df_immigration_aug.airline.alias('company'),\n",
    "    df_immigration_aug.i94mode.alias('mode'),\n",
    "    \n",
    ") \\\n",
    ".dropDuplicates(['transport_no']) \\\n",
    ".withColumn(\"transport_id\", monotonically_increasing_id())\n",
    "\n",
    "logistic_table.printSchema()\n",
    "logistic_table.head()"
   ]
  },
  {
   "cell_type": "markdown",
   "metadata": {},
   "source": [
    "### Immigration Fact Table"
   ]
  },
  {
   "cell_type": "code",
   "execution_count": 29,
   "metadata": {},
   "outputs": [
    {
     "name": "stdout",
     "output_type": "stream",
     "text": [
      "root\n",
      " |-- cic_id: double (nullable = true)\n",
      " |-- arrival_city: long (nullable = true)\n",
      " |-- expiration_time: timestamp (nullable = true)\n",
      " |-- admission_id: string (nullable = true)\n",
      " |-- arrdate: timestamp (nullable = true)\n",
      " |-- depdate: timestamp (nullable = true)\n",
      " |-- transport_id: long (nullable = true)\n",
      " |-- visa_issuer_id: long (nullable = true)\n",
      " |-- i94_year: double (nullable = true)\n",
      " |-- i94_month: double (nullable = true)\n",
      "\n"
     ]
    },
    {
     "name": "stderr",
     "output_type": "stream",
     "text": [
      "23/02/26 22:45:57 WARN CSVHeaderChecker: CSV header does not conform to the schema.\n",
      " Header: City, State, Median Age, Male Population, Female Population, Total Population, Number of Veterans, Foreign-born, Average Household Size, State Code, Race, Count\n",
      " Schema: city, state, median_age, male_population, female_population, total_population, number_of_veterans, foreign_born, average_household_size, state_code, race, count\n",
      "Expected: median_age but found: Median Age\n",
      "CSV file: file:///Users/elias/Projects/Udacity-DataEngineering/capstone-project/data/us-cities-demographics.csv\n",
      "                                                                                \r"
     ]
    },
    {
     "name": "stdout",
     "output_type": "stream",
     "text": [
      "CPU times: user 34 ms, sys: 13.2 ms, total: 47.1 ms\n",
      "Wall time: 8.37 s\n"
     ]
    },
    {
     "data": {
      "text/plain": [
       "Row(cic_id=5749531.0, arrival_city=557, expiration_time=None, admission_id='94931887530', arrdate=datetime.datetime(1970, 1, 1, 5, 42, 54), depdate=datetime.datetime(1970, 1, 1, 5, 42, 59), transport_id=2572, visa_issuer_id=209, i94_year=2016.0, i94_month=4.0)"
      ]
     },
     "execution_count": 29,
     "metadata": {},
     "output_type": "execute_result"
    }
   ],
   "source": [
    "%%time\n",
    "\n",
    "immigration_fact_table = df_immigration_aug \\\n",
    "    .join(city_table, ((df_immigration_aug.city == city_table.name) & (df_immigration_aug.state == city_table.state_code)), \"left\") \\\n",
    "    .join(port_table, (df_immigration_aug.i94port == port_table.port), \"left\") \\\n",
    "    .join(visa_issuer_table, (df_immigration_aug.visapost == visa_issuer_table.name), \"left\") \\\n",
    "    .join(logistic_table, (df_immigration_aug.transport_no == logistic_table.transport_no), \"left\") \\\n",
    "    .select(\n",
    "        col('cic_id'),\n",
    "        col('city_id').alias('arrival_city'),\n",
    "        to_timestamp(col('dtaddto')).alias('expiration_time'),\n",
    "        to_int(col('admnum')).alias('admission_id'),\n",
    "        to_timestamp(col('sas_arrdate')).alias('arrdate'),\n",
    "        to_timestamp(col('sas_depdate')).alias('depdate'),\n",
    "        col('transport_id'),\n",
    "        col('visa_issuer_id'),\n",
    "        col('i94Yr').alias('i94_year'),\n",
    "        col('i94Mon').alias('i94_month')\n",
    "    )\n",
    "\n",
    "immigration_fact_table.printSchema()\n",
    "immigration_fact_table.head()"
   ]
  },
  {
   "cell_type": "markdown",
   "metadata": {},
   "source": [
    "#### Data Quality Checks\n",
    "The quality checks are pretty simple but the checks fail if there is a null value in a primary key"
   ]
  },
  {
   "cell_type": "code",
   "execution_count": 19,
   "metadata": {},
   "outputs": [
    {
     "name": "stderr",
     "output_type": "stream",
     "text": [
      "23/02/26 21:07:16 WARN CSVHeaderChecker: CSV header does not conform to the schema.\n",
      " Header: City, State, Median Age, Male Population, Female Population, Total Population, Number of Veterans, Foreign-born, Average Household Size, State Code, Race, Count\n",
      " Schema: city, state, median_age, male_population, female_population, total_population, number_of_veterans, foreign_born, average_household_size, state_code, race, count\n",
      "Expected: median_age but found: Median Age\n",
      "CSV file: file:///Users/elias/Projects/Udacity-DataEngineering/capstone-project/data/us-cities-demographics.csv\n",
      "                                                                                \r"
     ]
    }
   ],
   "source": [
    "# Perform quality checks here\n",
    "def raise_if_null(table, col_name):\n",
    "    if table.filter(col(col_name).isNull()).count() > 0:\n",
    "        raise ValueError(f\"The column {col_name} in table {table} had a NULL value!\")\n",
    "\n",
    "raise_if_null(immigration_fact_table, 'cic_id')\n",
    "raise_if_null(logistic_table, 'transport_id')\n",
    "raise_if_null(visa_issuer_table, 'visa_issuer_id')\n",
    "raise_if_null(time_table, 'time')\n",
    "raise_if_null(alien_table, 'admission_id')\n",
    "raise_if_null(city_table, 'city_id')\n",
    "raise_if_null(port_table, 'port_id')\n",
    "\n",
    "\n"
   ]
  },
  {
   "cell_type": "markdown",
   "metadata": {},
   "source": [
    "#### Data dictionary "
   ]
  },
  {
   "cell_type": "markdown",
   "metadata": {},
   "source": [
    "![Data dictionary](../assets/udacity-data-dictionary.png \"Data dictionary\") \n",
    "\n",
    "[I94 Immigration Data](https://www.trade.gov/national-travel-and-tourism-office): This data was extracted from the US National Tourism and Trade Office.\n",
    "\n",
    "[World Temperature Data](https://www.kaggle.com/berkeleyearth/climate-change-earth-surface-temperature-data): This dataset is from Kaggle an online community platform for data scientists and machine learning enthusiasts.\n",
    "\n",
    "[U.S. City Demographic Data](https://public.opendatasoft.com/explore/dataset/us-cities-demographics/export/): Comes from OpenSoft.\n",
    "\n",
    "[Airport Code Table](https://datahub.io/core/airport-codes#data): Extracted from datahub.io."
   ]
  },
  {
   "cell_type": "markdown",
   "metadata": {},
   "source": [
    "#### Step 5: Complete Project Write Up\n",
    "* Clearly state the rationale for the choice of tools and technologies for the project.\n",
    "* Propose how often the data should be updated and why.\n",
    "* Write a description of how you would approach the problem differently under the following scenarios:\n",
    " * The data was increased by 100x.\n",
    " * The data populates a dashboard that must be updated on a daily basis by 7am every day.\n",
    " * The database needed to be accessed by 100+ people."
   ]
  },
  {
   "cell_type": "markdown",
   "metadata": {},
   "source": [
    "In this project, a ETL process is implemented where the data is extracted from S3, transformed to a star schema using Pyspark on an EMR cluster, and then loaded back to S3\n",
    "\n",
    "S3 is used as a data source because it is easy to use, the performance is far better than needed for this project and the cost is reasonable. In this project, a significant amount of data is being used and therefore it can take hours to days for a single computer to transform the data. To speed up the processing time a network of computers is used to process the data. [Amazon EMR](https://aws.amazon.com/emr/) pre-configured with [Apache Spark](https://spark.apache.org/) was used as the tool for the ETL process, but EMR is very good for managing the cluster and Spark for doing distributed processing.\n",
    "\n",
    "Python 3.7 was chosen as the programming language, and therefore Pyspark as well, but python is really good for fast development and for learning new things.\n"
   ]
  },
  {
   "cell_type": "markdown",
   "metadata": {},
   "source": [
    "The frequency of updates on this database should be on approximately monthly basis, but this tool is mostly built for people interested in analysing immigration data for historical reasons but not for user needing live updates.\n",
    "\n",
    "If the data was increased by 100x more resources and more powerful instances should be used. This could all be set in the `create-cluser.sh` with the flags `instance-count` and `instance-type`.\n",
    "\n",
    "If the data had to be updated on a daily basis by 7am it would be very good to use a scheduling tool like [Apache Airflow](https://airflow.apache.org/).\n",
    "\n",
    "If the database needed to be accessed by 100+ people it would be good to load the data from S3 to Amazon Redshift, but with Amazon Redshift it is easy to do SQL queries that most business analytics should be familiar with."
   ]
  },
  {
   "cell_type": "code",
   "execution_count": null,
   "metadata": {},
   "outputs": [],
   "source": []
  }
 ],
 "metadata": {
  "kernelspec": {
   "display_name": "Python 3 (ipykernel)",
   "language": "python",
   "name": "python3"
  },
  "language_info": {
   "codemirror_mode": {
    "name": "ipython",
    "version": 3
   },
   "file_extension": ".py",
   "mimetype": "text/x-python",
   "name": "python",
   "nbconvert_exporter": "python",
   "pygments_lexer": "ipython3",
   "version": "3.7.4"
  }
 },
 "nbformat": 4,
 "nbformat_minor": 4
}
